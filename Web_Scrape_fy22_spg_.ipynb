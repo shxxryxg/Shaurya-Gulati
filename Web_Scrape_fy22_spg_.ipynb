{
  "nbformat": 4,
  "nbformat_minor": 0,
  "metadata": {
    "colab": {
      "provenance": [],
      "collapsed_sections": [
        "zhGjvDi-YzQL",
        "kg4kN4CiWNxm",
        "V1yEEqfaWfYK",
        "6psFnVFHdAIC"
      ],
      "authorship_tag": "ABX9TyNIZ9G5eZgRa71dmI+WHRsV",
      "include_colab_link": true
    },
    "kernelspec": {
      "name": "python3",
      "display_name": "Python 3"
    },
    "language_info": {
      "name": "python"
    }
  },
  "cells": [
    {
      "cell_type": "markdown",
      "metadata": {
        "id": "view-in-github",
        "colab_type": "text"
      },
      "source": [
        "<a href=\"https://colab.research.google.com/github/shxxryxg/beta/blob/main/Web_Scrape_fy22_spg_.ipynb\" target=\"_parent\"><img src=\"https://colab.research.google.com/assets/colab-badge.svg\" alt=\"Open In Colab\"/></a>"
      ]
    },
    {
      "cell_type": "markdown",
      "source": [
        "# **Library Import**"
      ],
      "metadata": {
        "id": "zhGjvDi-YzQL"
      }
    },
    {
      "cell_type": "code",
      "execution_count": null,
      "metadata": {
        "id": "aZ9m9fWk4jWM"
      },
      "outputs": [],
      "source": [
        "import requests\n",
        "import pandas as pd\n",
        "from bs4 import BeautifulSoup\n",
        "from google.colab import data_table"
      ]
    },
    {
      "cell_type": "markdown",
      "source": [
        "# **Exctracting FY22 Data**"
      ],
      "metadata": {
        "id": "kg4kN4CiWNxm"
      }
    },
    {
      "cell_type": "code",
      "source": [
        "r = requests.get('https://www.spglobal.com/en/annual-reports/2022/financial-highlights.aspx')"
      ],
      "metadata": {
        "id": "EO0digQr5SEy"
      },
      "execution_count": null,
      "outputs": []
    },
    {
      "cell_type": "code",
      "source": [
        "fy22 = BeautifulSoup(r.content, 'html.parser')\n",
        "print(fy22.title)\n",
        "print(r.url)\n",
        "print(r.status_code)"
      ],
      "metadata": {
        "colab": {
          "base_uri": "https://localhost:8080/"
        },
        "id": "gzvlO8455iPT",
        "outputId": "eb1181bc-afb2-4163-b757-e5a0e2f4699a",
        "collapsed": true
      },
      "execution_count": null,
      "outputs": [
        {
          "output_type": "stream",
          "name": "stdout",
          "text": [
            "<title>Financial Highlights | 2022 Annual Report | S&amp;P Global</title>\n",
            "https://www.spglobal.com/en/annual-reports/2022/financial-highlights.aspx\n",
            "200\n"
          ]
        }
      ]
    },
    {
      "cell_type": "code",
      "source": [
        "t22 = fy22.find('div' , class_=\"data-table\")\n",
        "print(t22)"
      ],
      "metadata": {
        "colab": {
          "base_uri": "https://localhost:8080/"
        },
        "collapsed": true,
        "id": "4iAb6jLe6AQ3",
        "outputId": "aeca45d5-276e-4a65-e8f7-82533190ca97"
      },
      "execution_count": null,
      "outputs": [
        {
          "output_type": "stream",
          "name": "stdout",
          "text": [
            "<div class=\"data-table\">\n",
            "<div class=\"content\">\n",
            "<table border=\"0\" cellpadding=\"0\" cellspacing=\"0\" class=\"highlights_table\">\n",
            "<thead>\n",
            "<tr>\n",
            "<th class=\"key\"> <span style=\"font-weight:italic;\">Years ended December 31 (in millions, except per share data)</span></th>\n",
            "<th class=\"value current\"> <span style=\"font-weight:italic;\"> 2022</span></th>\n",
            "<th class=\"value previous\"> <span style=\"font-weight:italic;\">2021</span></th>\n",
            "<th class=\"value delta\"> <span style=\"font-weight:italic;\"> % Change </span></th>\n",
            "</tr>\n",
            "</thead>\n",
            "<tbody class=\"group\"><tr>\n",
            "<td class=\"key\"> <span style=\"font-weight:italic;\">Non-GAAP pro forma adjusted revenue*</span></td>\n",
            "<td class=\"value current\"> <span class=\"curr\">$</span> <span style=\"font-weight:italic;\">11,842</span></td>\n",
            "<td class=\"value previous\"> <span class=\"curr\">$</span> <span style=\"font-weight:italic;\">12,382</span> </td>\n",
            "<td class=\"value delta\"> <span style=\"font-weight:italic;\">(4)</span></td>\n",
            "</tr><tr>\n",
            "<td class=\"key\"> <span style=\"font-weight:italic;\">Non-GAAP pro forma adjusted net income (attributable to the Company’s\n",
            "common shareholders)* </span></td>\n",
            "<td class=\"value current\"> <span class=\"curr\">$</span> <span style=\"font-weight:italic;\">3,765</span></td>\n",
            "<td class=\"value previous\"> <span class=\"curr\">$</span> <span style=\"font-weight:italic;\">4,137</span> </td>\n",
            "<td class=\"value delta\"> <span style=\"font-weight:italic;\">(9)</span></td>\n",
            "</tr> </tbody><tbody class=\"group\"><tr>\n",
            "<td class=\"key\"> <span style=\"font-weight:italic;\">Non-GAAP pro forma adjusted diluted earnings per common share* </span></td>\n",
            "<td class=\"value current\"> <span class=\"curr\">$</span> <span style=\"font-weight:italic;\">11.19</span></td>\n",
            "<td class=\"value previous\"> <span class=\"curr\">$</span> <span style=\"font-weight:italic;\">11.63</span> </td>\n",
            "<td class=\"value delta\"> <span style=\"font-weight:italic;\">(4)</span></td>\n",
            "</tr> </tbody><tbody class=\"group\"><tr>\n",
            "<td class=\"key\"> <span style=\"font-weight:italic;\">Dividends per common share<sup>(a)</sup></span></td>\n",
            "<td class=\"value current\"> <span class=\"curr\">$</span> <span style=\"font-weight:italic;\">3.32</span></td>\n",
            "<td class=\"value previous\"> <span class=\"curr\">$</span> <span style=\"font-weight:italic;\">3.08</span> </td>\n",
            "<td class=\"value delta\"> <span style=\"font-weight:italic;\">8</span></td>\n",
            "</tr> </tbody><tbody class=\"group\"><tr>\n",
            "<td class=\"key\"> <span style=\"font-weight:italic;\">Total assets</span></td>\n",
            "<td class=\"value current\"> <span class=\"curr\">$</span> <span style=\"font-weight:italic;\">61,784</span></td>\n",
            "<td class=\"value previous\"> <span class=\"curr\">$</span> <span style=\"font-weight:italic;\">15,026</span> </td>\n",
            "<td class=\"value delta\"> <span style=\"font-weight:italic;\">N/M</span></td>\n",
            "</tr><tr>\n",
            "<td class=\"key\"> <span style=\"font-weight:italic;\">Capital Expenditures <sup>(b)</sup></span></td>\n",
            "<td class=\"value current\"> <span class=\"curr\">$</span> <span style=\"font-weight:italic;\">89</span></td>\n",
            "<td class=\"value previous\"> <span class=\"curr\">$</span> <span style=\"font-weight:italic;\">35</span> </td>\n",
            "<td class=\"value delta\"> <span style=\"font-weight:italic;\">N/M</span></td>\n",
            "</tr><tr>\n",
            "<td class=\"key\"> <span style=\"font-weight:italic;\">Total debt</span></td>\n",
            "<td class=\"value current\"> <span class=\"curr\">$</span> <span style=\"font-weight:italic;\">10,956</span></td>\n",
            "<td class=\"value previous\"> <span class=\"curr\">$</span> <span style=\"font-weight:italic;\">4,114 </span> </td>\n",
            "<td class=\"value delta\"> <span style=\"font-weight:italic;\">N/M</span></td>\n",
            "</tr><tr>\n",
            "<td class=\"key\"> <span style=\"font-weight:italic;\">Equity (including redeemable noncontrolling interest)</span></td>\n",
            "<td class=\"value current\"> <span class=\"curr\">$</span> <span style=\"font-weight:italic;\">39,744</span></td>\n",
            "<td class=\"value previous\"> <span class=\"curr\">$</span> <span style=\"font-weight:italic;\">5,536</span> </td>\n",
            "<td class=\"value delta\"> <span style=\"font-weight:italic;\">N/M</span></td>\n",
            "</tr> </tbody> <tfoot> <tr> <td class=\"key\"></td> <td class=\"value current\"></td> <td class=\"value previous\"></td> <td class=\"value delta\"></td> </tr> </tfoot> </table> </div> </div>\n"
          ]
        }
      ]
    },
    {
      "cell_type": "code",
      "source": [
        "headers22 = []\n",
        "for i in t22.find_all('th'):\n",
        " title = i.text\n",
        " headers22.append(title)"
      ],
      "metadata": {
        "id": "Zgdbq-YN-nzC"
      },
      "execution_count": null,
      "outputs": []
    },
    {
      "cell_type": "code",
      "source": [
        "data22 = pd.DataFrame(columns = headers22)"
      ],
      "metadata": {
        "id": "1Enh4QSf_DI5"
      },
      "execution_count": null,
      "outputs": []
    },
    {
      "cell_type": "code",
      "source": [
        "for j in t22.find_all('tr')[1:]:\n",
        " row_data = j.find_all('td')\n",
        " row = [i.text for i in row_data]\n",
        " length = len(data22)\n",
        " data22.loc[length] = row"
      ],
      "metadata": {
        "id": "Y_MkvwdK_JAR"
      },
      "execution_count": null,
      "outputs": []
    },
    {
      "cell_type": "code",
      "source": [
        "data22 = data22.drop(8)"
      ],
      "metadata": {
        "id": "NEAUfIUBUSw8"
      },
      "execution_count": null,
      "outputs": []
    },
    {
      "cell_type": "code",
      "source": [
        "data22.to_csv(\"fy22.csv\", index='true')"
      ],
      "metadata": {
        "id": "s0JN5QrzaTV_"
      },
      "execution_count": null,
      "outputs": []
    },
    {
      "cell_type": "code",
      "source": [
        "data22 = data_table.DataTable(data22, include_index=False)"
      ],
      "metadata": {
        "id": "abGMj7BXXA4C"
      },
      "execution_count": null,
      "outputs": []
    },
    {
      "cell_type": "code",
      "source": [
        "data22"
      ],
      "metadata": {
        "colab": {
          "base_uri": "https://localhost:8080/",
          "height": 390
        },
        "id": "OrcBMQu3YQFM",
        "outputId": "2d25abd2-00fd-4174-aaf2-01c5347c7d8f"
      },
      "execution_count": null,
      "outputs": [
        {
          "output_type": "execute_result",
          "data": {
            "text/html": [
              "<div>\n",
              "<style scoped>\n",
              "    .dataframe tbody tr th:only-of-type {\n",
              "        vertical-align: middle;\n",
              "    }\n",
              "\n",
              "    .dataframe tbody tr th {\n",
              "        vertical-align: top;\n",
              "    }\n",
              "\n",
              "    .dataframe thead th {\n",
              "        text-align: right;\n",
              "    }\n",
              "</style>\n",
              "<table border=\"1\" class=\"dataframe\">\n",
              "  <thead>\n",
              "    <tr style=\"text-align: right;\">\n",
              "      <th></th>\n",
              "      <th>Years ended December 31 (in millions, except per share data)</th>\n",
              "      <th>2022</th>\n",
              "      <th>2021</th>\n",
              "      <th>% Change</th>\n",
              "    </tr>\n",
              "  </thead>\n",
              "  <tbody>\n",
              "    <tr>\n",
              "      <th>0</th>\n",
              "      <td>Non-GAAP pro forma adjusted revenue*</td>\n",
              "      <td>$ 11,842</td>\n",
              "      <td>$ 12,382</td>\n",
              "      <td>(4)</td>\n",
              "    </tr>\n",
              "    <tr>\n",
              "      <th>1</th>\n",
              "      <td>Non-GAAP pro forma adjusted net income (attri...</td>\n",
              "      <td>$ 3,765</td>\n",
              "      <td>$ 4,137</td>\n",
              "      <td>(9)</td>\n",
              "    </tr>\n",
              "    <tr>\n",
              "      <th>2</th>\n",
              "      <td>Non-GAAP pro forma adjusted diluted earnings ...</td>\n",
              "      <td>$ 11.19</td>\n",
              "      <td>$ 11.63</td>\n",
              "      <td>(4)</td>\n",
              "    </tr>\n",
              "    <tr>\n",
              "      <th>3</th>\n",
              "      <td>Dividends per common share(a)</td>\n",
              "      <td>$ 3.32</td>\n",
              "      <td>$ 3.08</td>\n",
              "      <td>8</td>\n",
              "    </tr>\n",
              "    <tr>\n",
              "      <th>4</th>\n",
              "      <td>Total assets</td>\n",
              "      <td>$ 61,784</td>\n",
              "      <td>$ 15,026</td>\n",
              "      <td>N/M</td>\n",
              "    </tr>\n",
              "    <tr>\n",
              "      <th>5</th>\n",
              "      <td>Capital Expenditures (b)</td>\n",
              "      <td>$ 89</td>\n",
              "      <td>$ 35</td>\n",
              "      <td>N/M</td>\n",
              "    </tr>\n",
              "    <tr>\n",
              "      <th>6</th>\n",
              "      <td>Total debt</td>\n",
              "      <td>$ 10,956</td>\n",
              "      <td>$ 4,114</td>\n",
              "      <td>N/M</td>\n",
              "    </tr>\n",
              "    <tr>\n",
              "      <th>7</th>\n",
              "      <td>Equity (including redeemable noncontrolling i...</td>\n",
              "      <td>$ 39,744</td>\n",
              "      <td>$ 5,536</td>\n",
              "      <td>N/M</td>\n",
              "    </tr>\n",
              "  </tbody>\n",
              "</table>\n",
              "</div>"
            ],
            "application/vnd.google.colaboratory.module+javascript": "\n      import \"https://ssl.gstatic.com/colaboratory/data_table/881c4a0d49046431/data_table.js\";\n\n      const table = window.createDataTable({\n        data: [[\" Non-GAAP pro forma adjusted revenue*\",\n\" $ 11,842\",\n\" $ 12,382 \",\n\" (4)\"],\n [\" Non-GAAP pro forma adjusted net income (attributable to the Company\\u2019s\\ncommon shareholders)* \",\n\" $ 3,765\",\n\" $ 4,137 \",\n\" (9)\"],\n [\" Non-GAAP pro forma adjusted diluted earnings per common share* \",\n\" $ 11.19\",\n\" $ 11.63 \",\n\" (4)\"],\n [\" Dividends per common share(a)\",\n\" $ 3.32\",\n\" $ 3.08 \",\n\" 8\"],\n [\" Total assets\",\n\" $ 61,784\",\n\" $ 15,026 \",\n\" N/M\"],\n [\" Capital Expenditures (b)\",\n\" $ 89\",\n\" $ 35 \",\n\" N/M\"],\n [\" Total debt\",\n\" $ 10,956\",\n\" $ 4,114  \",\n\" N/M\"],\n [\" Equity (including redeemable noncontrolling interest)\",\n\" $ 39,744\",\n\" $ 5,536 \",\n\" N/M\"]],\n        columns: [[\"string\", \" Years ended December 31 (in millions, except per share data)\"], [\"string\", \"  2022\"], [\"string\", \" 2021\"], [\"string\", \"  % Change \"]],\n        columnOptions: [],\n        rowsPerPage: 25,\n        helpUrl: \"https://colab.research.google.com/notebooks/data_table.ipynb\",\n        suppressOutputScrolling: true,\n        minimumWidth: undefined,\n      });\n      \n      function appendQuickchartButton(parentElement) {\n        let quickchartButtonContainerElement = document.createElement('div');\n        quickchartButtonContainerElement.innerHTML = `\n    <div id=\"df-36ef6bc5-d0f1-40de-ad04-237ec5ef4da9\">\n      <button class=\"colab-df-quickchart\" onclick=\"quickchart('df-36ef6bc5-d0f1-40de-ad04-237ec5ef4da9')\"\n              title=\"Suggest charts.\"\n              style=\"display:none;\">\n\n<svg xmlns=\"http://www.w3.org/2000/svg\" height=\"24px\"viewBox=\"0 0 24 24\"\n     width=\"24px\">\n    <g>\n        <path d=\"M19 3H5c-1.1 0-2 .9-2 2v14c0 1.1.9 2 2 2h14c1.1 0 2-.9 2-2V5c0-1.1-.9-2-2-2zM9 17H7v-7h2v7zm4 0h-2V7h2v10zm4 0h-2v-4h2v4z\"/>\n    </g>\n</svg>\n      </button>\n    </div>\n\n<style>\n  .colab-df-quickchart {\n    background-color: #E8F0FE;\n    border: none;\n    border-radius: 50%;\n    cursor: pointer;\n    display: none;\n    fill: #1967D2;\n    height: 32px;\n    padding: 0 0 0 0;\n    width: 32px;\n  }\n\n  .colab-df-quickchart:hover {\n    background-color: #E2EBFA;\n    box-shadow: 0px 1px 2px rgba(60, 64, 67, 0.3), 0px 1px 3px 1px rgba(60, 64, 67, 0.15);\n    fill: #174EA6;\n  }\n\n  [theme=dark] .colab-df-quickchart {\n    background-color: #3B4455;\n    fill: #D2E3FC;\n  }\n\n  [theme=dark] .colab-df-quickchart:hover {\n    background-color: #434B5C;\n    box-shadow: 0px 1px 3px 1px rgba(0, 0, 0, 0.15);\n    filter: drop-shadow(0px 1px 2px rgba(0, 0, 0, 0.3));\n    fill: #FFFFFF;\n  }\n</style>\n\n    <script>\n      async function quickchart(key) {\n        const containerElement = document.querySelector('#' + key);\n        const charts = await google.colab.kernel.invokeFunction(\n            'suggestCharts', [key], {});\n      }\n    </script>\n`;\n        parentElement.appendChild(quickchartButtonContainerElement);\n        \nfunction displayQuickchartButton(domScope) {\n  let quickchartButtonEl =\n    domScope.querySelector('#df-36ef6bc5-d0f1-40de-ad04-237ec5ef4da9 button.colab-df-quickchart');\n  quickchartButtonEl.style.display =\n    google.colab.kernel.accessAllowed ? 'block' : 'none';\n}\n\n        displayQuickchartButton(parentElement);\n      }\n\n      appendQuickchartButton(table);\n    ",
            "text/plain": [
              "<google.colab.data_table.DataTable object>"
            ]
          },
          "metadata": {},
          "execution_count": 11
        }
      ]
    },
    {
      "cell_type": "markdown",
      "source": [
        "# **Exctracting FY21 Data**"
      ],
      "metadata": {
        "id": "V1yEEqfaWfYK"
      }
    },
    {
      "cell_type": "code",
      "source": [
        "s = requests.get('https://www.spglobal.com/en/annual-reports/2021/financial-highlights.aspx')"
      ],
      "metadata": {
        "id": "lAszODFaWMZs"
      },
      "execution_count": null,
      "outputs": []
    },
    {
      "cell_type": "code",
      "source": [
        "fy21 = BeautifulSoup(s.content, 'html.parser')\n",
        "print(fy21.title)\n",
        "print(s.url)\n",
        "print(s.status_code)"
      ],
      "metadata": {
        "colab": {
          "base_uri": "https://localhost:8080/"
        },
        "collapsed": true,
        "id": "EvU2uA9TZEes",
        "outputId": "25d96257-1d6e-4274-c256-859be3a274f7"
      },
      "execution_count": null,
      "outputs": [
        {
          "output_type": "stream",
          "name": "stdout",
          "text": [
            "<title>Financial Highlights | 2021 Annual Report | S&amp;P Global</title>\n",
            "https://www.spglobal.com/en/annual-reports/2021/financial-highlights.aspx\n",
            "200\n"
          ]
        }
      ]
    },
    {
      "cell_type": "code",
      "source": [
        "t21 = fy21.find('div' , class_=\"data-table\")\n",
        "print(t21)"
      ],
      "metadata": {
        "colab": {
          "base_uri": "https://localhost:8080/"
        },
        "collapsed": true,
        "id": "TJv1sP--ZQIO",
        "outputId": "382c210f-7f82-459b-c1b8-dfb204364f47"
      },
      "execution_count": null,
      "outputs": [
        {
          "output_type": "stream",
          "name": "stdout",
          "text": [
            "<div class=\"data-table\"> <div class=\"content\"> <table border=\"0\" cellpadding=\"0\" cellspacing=\"0\" class=\"highlights_table\"> <thead> <tr> <th class=\"key\"> <span style=\"font-weight:italic;\">Years ended December 31 (in millions, except per share data)</span></th> <th class=\"value current\"> <span style=\"font-weight:italic;\"> 2021</span></th> <th class=\"value previous\"> <span style=\"font-weight:italic;\">2020</span></th> <th class=\"value delta\"> <span style=\"font-weight:italic;\"> % Change </span></th> </tr> </thead><tbody class=\"group\"><tr>\n",
            "<td class=\"key\"> <span style=\"font-weight:italic;\">Revenue</span></td>\n",
            "<td class=\"value current\"> <span class=\"curr\">$</span> <span style=\"font-weight:italic;\">8,297</span></td>\n",
            "<td class=\"value previous\"> <span class=\"curr\">$</span> <span style=\"font-weight:italic;\">7,442</span> </td>\n",
            "<td class=\"value delta\"> <span style=\"font-weight:italic;\">11</span></td>\n",
            "</tr><tr>\n",
            "<td class=\"key\"> <span style=\"font-weight:italic;\">Adjusted net income (attributable to the Company's common shareholders)*</span></td>\n",
            "<td class=\"value current\"> <span class=\"curr\">$</span> <span style=\"font-weight:italic;\">3,311<sup>(a)</sup></span></td>\n",
            "<td class=\"value previous\"> <span class=\"curr\">$</span> <span style=\"font-weight:italic;\">2,830<sup>(b)</sup></span> </td>\n",
            "<td class=\"value delta\"> <span style=\"font-weight:italic;\">17</span></td>\n",
            "</tr> </tbody><tbody class=\"group\"><tr>\n",
            "<td class=\"key\"> <span style=\"font-weight:italic;\">Adjusted diluted earnings per common share*</span></td>\n",
            "<td class=\"value current\"> <span class=\"curr\">$</span> <span style=\"font-weight:italic;\">13.70<sup>(a)</sup></span></td>\n",
            "<td class=\"value previous\"> <span class=\"curr\">$</span> <span style=\"font-weight:italic;\">11.69<sup>(b)</sup></span> </td>\n",
            "<td class=\"value delta\"> <span style=\"font-weight:italic;\">17</span></td>\n",
            "</tr> </tbody><tbody class=\"group\"><tr>\n",
            "<td class=\"key\"> <span style=\"font-weight:italic;\">Dividends per common share<sup>(c)</sup></span></td>\n",
            "<td class=\"value current\"> <span class=\"curr\">$</span> <span style=\"font-weight:italic;\">3.08</span></td>\n",
            "<td class=\"value previous\"> <span class=\"curr\">$</span> <span style=\"font-weight:italic;\">2.68</span> </td>\n",
            "<td class=\"value delta\"> <span style=\"font-weight:italic;\">15</span></td>\n",
            "</tr> </tbody><tbody class=\"group\"><tr>\n",
            "<td class=\"key\"> <span style=\"font-weight:italic;\">Total assets</span></td>\n",
            "<td class=\"value current\"> <span class=\"curr\">$</span> <span style=\"font-weight:italic;\">15,026</span></td>\n",
            "<td class=\"value previous\"> <span class=\"curr\">$</span> <span style=\"font-weight:italic;\">12,537</span> </td>\n",
            "<td class=\"value delta\"> <span style=\"font-weight:italic;\">20</span></td>\n",
            "</tr><tr>\n",
            "<td class=\"key\"> <span style=\"font-weight:italic;\">Capital Expenditures <sup>(d)</sup></span></td>\n",
            "<td class=\"value current\"> <span class=\"curr\">$</span> <span style=\"font-weight:italic;\">35</span></td>\n",
            "<td class=\"value previous\"> <span class=\"curr\">$</span> <span style=\"font-weight:italic;\">76</span> </td>\n",
            "<td class=\"value delta\"> <span style=\"font-weight:italic;\">(54)</span></td>\n",
            "</tr><tr>\n",
            "<td class=\"key\"> <span style=\"font-weight:italic;\">Total debt</span></td>\n",
            "<td class=\"value current\"> <span class=\"curr\">$</span> <span style=\"font-weight:italic;\">4,114</span></td>\n",
            "<td class=\"value previous\"> <span class=\"curr\">$</span> <span style=\"font-weight:italic;\">4,110</span> </td>\n",
            "<td class=\"value delta\"> <span style=\"font-weight:italic;\">0</span></td>\n",
            "</tr><tr>\n",
            "<td class=\"key\"> <span style=\"font-weight:italic;\">Equity (including redeemable noncontrolling interest)</span></td>\n",
            "<td class=\"value current\"> <span class=\"curr\">$</span> <span style=\"font-weight:italic;\">5,536</span></td>\n",
            "<td class=\"value previous\"> <span class=\"curr\">$</span> <span style=\"font-weight:italic;\">3,352</span> </td>\n",
            "<td class=\"value delta\"> <span style=\"font-weight:italic;\">65</span></td>\n",
            "</tr> </tbody> <tfoot> <tr> <td class=\"key\"></td> <td class=\"value current\"></td> <td class=\"value previous\"></td> <td class=\"value delta\"></td> </tr> </tfoot> </table> </div> </div>\n"
          ]
        }
      ]
    },
    {
      "cell_type": "code",
      "source": [
        "headers21 = []\n",
        "for i in t21.find_all('th'):\n",
        " title = i.text\n",
        " headers21.append(title)"
      ],
      "metadata": {
        "id": "90GWibyRZm4y"
      },
      "execution_count": null,
      "outputs": []
    },
    {
      "cell_type": "code",
      "source": [
        "data21 = pd.DataFrame(columns = headers21)"
      ],
      "metadata": {
        "id": "oAfKO4_IbujI"
      },
      "execution_count": null,
      "outputs": []
    },
    {
      "cell_type": "code",
      "source": [
        "for j in t21.find_all('tr')[1:]:\n",
        " row_data = j.find_all('td')\n",
        " row = [i.text for i in row_data]\n",
        " length = len(data21)\n",
        " data21.loc[length] = row"
      ],
      "metadata": {
        "id": "sdg7eHLHbZ3w"
      },
      "execution_count": null,
      "outputs": []
    },
    {
      "cell_type": "code",
      "source": [
        "data21 = data21.drop(8)"
      ],
      "metadata": {
        "id": "_5hYsXi3cMtU"
      },
      "execution_count": null,
      "outputs": []
    },
    {
      "cell_type": "code",
      "source": [
        "data21.to_csv(\"fy21.csv\", index='true')"
      ],
      "metadata": {
        "id": "ABA7EKYQcS1N"
      },
      "execution_count": null,
      "outputs": []
    },
    {
      "cell_type": "code",
      "source": [
        "data21 = data_table.DataTable(data21, include_index=False)"
      ],
      "metadata": {
        "id": "egFsVdC0coKl"
      },
      "execution_count": null,
      "outputs": []
    },
    {
      "cell_type": "code",
      "source": [
        "data21"
      ],
      "metadata": {
        "colab": {
          "base_uri": "https://localhost:8080/",
          "height": 341
        },
        "outputId": "5702e9d6-4f75-4241-d71f-a5e39427b1f4",
        "collapsed": true,
        "id": "a3AvlTbAcoKo"
      },
      "execution_count": null,
      "outputs": [
        {
          "output_type": "execute_result",
          "data": {
            "text/html": [
              "<div>\n",
              "<style scoped>\n",
              "    .dataframe tbody tr th:only-of-type {\n",
              "        vertical-align: middle;\n",
              "    }\n",
              "\n",
              "    .dataframe tbody tr th {\n",
              "        vertical-align: top;\n",
              "    }\n",
              "\n",
              "    .dataframe thead th {\n",
              "        text-align: right;\n",
              "    }\n",
              "</style>\n",
              "<table border=\"1\" class=\"dataframe\">\n",
              "  <thead>\n",
              "    <tr style=\"text-align: right;\">\n",
              "      <th></th>\n",
              "      <th>Years ended December 31 (in millions, except per share data)</th>\n",
              "      <th>2021</th>\n",
              "      <th>2020</th>\n",
              "      <th>% Change</th>\n",
              "    </tr>\n",
              "  </thead>\n",
              "  <tbody>\n",
              "    <tr>\n",
              "      <th>0</th>\n",
              "      <td>Revenue</td>\n",
              "      <td>$ 8,297</td>\n",
              "      <td>$ 7,442</td>\n",
              "      <td>11</td>\n",
              "    </tr>\n",
              "    <tr>\n",
              "      <th>1</th>\n",
              "      <td>Adjusted net income (attributable to the Comp...</td>\n",
              "      <td>$ 3,311(a)</td>\n",
              "      <td>$ 2,830(b)</td>\n",
              "      <td>17</td>\n",
              "    </tr>\n",
              "    <tr>\n",
              "      <th>2</th>\n",
              "      <td>Adjusted diluted earnings per common share*</td>\n",
              "      <td>$ 13.70(a)</td>\n",
              "      <td>$ 11.69(b)</td>\n",
              "      <td>17</td>\n",
              "    </tr>\n",
              "    <tr>\n",
              "      <th>3</th>\n",
              "      <td>Dividends per common share(c)</td>\n",
              "      <td>$ 3.08</td>\n",
              "      <td>$ 2.68</td>\n",
              "      <td>15</td>\n",
              "    </tr>\n",
              "    <tr>\n",
              "      <th>4</th>\n",
              "      <td>Total assets</td>\n",
              "      <td>$ 15,026</td>\n",
              "      <td>$ 12,537</td>\n",
              "      <td>20</td>\n",
              "    </tr>\n",
              "    <tr>\n",
              "      <th>5</th>\n",
              "      <td>Capital Expenditures (d)</td>\n",
              "      <td>$ 35</td>\n",
              "      <td>$ 76</td>\n",
              "      <td>(54)</td>\n",
              "    </tr>\n",
              "    <tr>\n",
              "      <th>6</th>\n",
              "      <td>Total debt</td>\n",
              "      <td>$ 4,114</td>\n",
              "      <td>$ 4,110</td>\n",
              "      <td>0</td>\n",
              "    </tr>\n",
              "    <tr>\n",
              "      <th>7</th>\n",
              "      <td>Equity (including redeemable noncontrolling i...</td>\n",
              "      <td>$ 5,536</td>\n",
              "      <td>$ 3,352</td>\n",
              "      <td>65</td>\n",
              "    </tr>\n",
              "  </tbody>\n",
              "</table>\n",
              "</div>"
            ],
            "application/vnd.google.colaboratory.module+javascript": "\n      import \"https://ssl.gstatic.com/colaboratory/data_table/881c4a0d49046431/data_table.js\";\n\n      const table = window.createDataTable({\n        data: [[\" Revenue\",\n\" $ 8,297\",\n\" $ 7,442 \",\n\" 11\"],\n [\" Adjusted net income (attributable to the Company's common shareholders)*\",\n\" $ 3,311(a)\",\n\" $ 2,830(b) \",\n\" 17\"],\n [\" Adjusted diluted earnings per common share*\",\n\" $ 13.70(a)\",\n\" $ 11.69(b) \",\n\" 17\"],\n [\" Dividends per common share(c)\",\n\" $ 3.08\",\n\" $ 2.68 \",\n\" 15\"],\n [\" Total assets\",\n\" $ 15,026\",\n\" $ 12,537 \",\n\" 20\"],\n [\" Capital Expenditures (d)\",\n\" $ 35\",\n\" $ 76 \",\n\" (54)\"],\n [\" Total debt\",\n\" $ 4,114\",\n\" $ 4,110 \",\n\" 0\"],\n [\" Equity (including redeemable noncontrolling interest)\",\n\" $ 5,536\",\n\" $ 3,352 \",\n\" 65\"]],\n        columns: [[\"string\", \" Years ended December 31 (in millions, except per share data)\"], [\"string\", \"  2021\"], [\"string\", \" 2020\"], [\"string\", \"  % Change \"]],\n        columnOptions: [],\n        rowsPerPage: 25,\n        helpUrl: \"https://colab.research.google.com/notebooks/data_table.ipynb\",\n        suppressOutputScrolling: true,\n        minimumWidth: undefined,\n      });\n      \n      function appendQuickchartButton(parentElement) {\n        let quickchartButtonContainerElement = document.createElement('div');\n        quickchartButtonContainerElement.innerHTML = `\n    <div id=\"df-39ea6785-c047-4441-8859-e73e79b2a975\">\n      <button class=\"colab-df-quickchart\" onclick=\"quickchart('df-39ea6785-c047-4441-8859-e73e79b2a975')\"\n              title=\"Suggest charts.\"\n              style=\"display:none;\">\n\n<svg xmlns=\"http://www.w3.org/2000/svg\" height=\"24px\"viewBox=\"0 0 24 24\"\n     width=\"24px\">\n    <g>\n        <path d=\"M19 3H5c-1.1 0-2 .9-2 2v14c0 1.1.9 2 2 2h14c1.1 0 2-.9 2-2V5c0-1.1-.9-2-2-2zM9 17H7v-7h2v7zm4 0h-2V7h2v10zm4 0h-2v-4h2v4z\"/>\n    </g>\n</svg>\n      </button>\n    </div>\n\n<style>\n  .colab-df-quickchart {\n    background-color: #E8F0FE;\n    border: none;\n    border-radius: 50%;\n    cursor: pointer;\n    display: none;\n    fill: #1967D2;\n    height: 32px;\n    padding: 0 0 0 0;\n    width: 32px;\n  }\n\n  .colab-df-quickchart:hover {\n    background-color: #E2EBFA;\n    box-shadow: 0px 1px 2px rgba(60, 64, 67, 0.3), 0px 1px 3px 1px rgba(60, 64, 67, 0.15);\n    fill: #174EA6;\n  }\n\n  [theme=dark] .colab-df-quickchart {\n    background-color: #3B4455;\n    fill: #D2E3FC;\n  }\n\n  [theme=dark] .colab-df-quickchart:hover {\n    background-color: #434B5C;\n    box-shadow: 0px 1px 3px 1px rgba(0, 0, 0, 0.15);\n    filter: drop-shadow(0px 1px 2px rgba(0, 0, 0, 0.3));\n    fill: #FFFFFF;\n  }\n</style>\n\n    <script>\n      async function quickchart(key) {\n        const containerElement = document.querySelector('#' + key);\n        const charts = await google.colab.kernel.invokeFunction(\n            'suggestCharts', [key], {});\n      }\n    </script>\n`;\n        parentElement.appendChild(quickchartButtonContainerElement);\n        \nfunction displayQuickchartButton(domScope) {\n  let quickchartButtonEl =\n    domScope.querySelector('#df-39ea6785-c047-4441-8859-e73e79b2a975 button.colab-df-quickchart');\n  quickchartButtonEl.style.display =\n    google.colab.kernel.accessAllowed ? 'block' : 'none';\n}\n\n        displayQuickchartButton(parentElement);\n      }\n\n      appendQuickchartButton(table);\n    ",
            "text/plain": [
              "<google.colab.data_table.DataTable object>"
            ]
          },
          "metadata": {},
          "execution_count": 21
        }
      ]
    },
    {
      "cell_type": "markdown",
      "source": [
        "# **Exctracting FY20 Data**"
      ],
      "metadata": {
        "id": "6psFnVFHdAIC"
      }
    },
    {
      "cell_type": "code",
      "source": [
        "t = requests.get('https://www.spglobal.com/en/annual-reports/2020/financial-highlights.aspx')"
      ],
      "metadata": {
        "id": "Nmjn2gocdKvg"
      },
      "execution_count": null,
      "outputs": []
    },
    {
      "cell_type": "code",
      "source": [
        "fy20 = BeautifulSoup(t.content, 'html.parser')\n",
        "print(fy20.title)\n",
        "print(t.url)\n",
        "print(t.status_code)"
      ],
      "metadata": {
        "colab": {
          "base_uri": "https://localhost:8080/"
        },
        "id": "pZqNWXEZda3f",
        "outputId": "d9af7a97-19e6-477c-ae9f-116d87a37c46"
      },
      "execution_count": null,
      "outputs": [
        {
          "output_type": "stream",
          "name": "stdout",
          "text": [
            "<title>Financial Highlights | 2020 Annual Report | S&amp;P Global</title>\n",
            "https://www.spglobal.com/en/annual-reports/2020/financial-highlights.aspx\n",
            "200\n"
          ]
        }
      ]
    },
    {
      "cell_type": "code",
      "source": [
        "t20 = fy20.find('div' , class_=\"data-table\")\n",
        "print(t20)"
      ],
      "metadata": {
        "colab": {
          "base_uri": "https://localhost:8080/"
        },
        "collapsed": true,
        "outputId": "506b2c72-f250-405b-8116-22e0fd5cf49e",
        "id": "8hhfXnnWdnyv"
      },
      "execution_count": null,
      "outputs": [
        {
          "output_type": "stream",
          "name": "stdout",
          "text": [
            "<div class=\"data-table\"> <div class=\"content\"> <table border=\"0\" cellpadding=\"0\" cellspacing=\"0\" class=\"highlights_table\"> <thead> <tr> <th class=\"key\"> <span style=\"font-weight:italic;\">Years ended December 31 (in millions, except per share data)</span></th> <th class=\"value current\"> <span style=\"font-weight:italic;\"> 2020</span></th> <th class=\"value previous\"> <span style=\"font-weight:italic;\">2019</span></th> <th class=\"value delta\"> <span style=\"font-weight:italic;\"> % Change </span></th> </tr> </thead><tbody class=\"group\"><tr>\n",
            "<td class=\"key\"> <span style=\"font-weight:italic;\">Revenue</span></td>\n",
            "<td class=\"value current\"> <span class=\"curr\">$</span> <span style=\"font-weight:italic;\">7,442</span></td>\n",
            "<td class=\"value previous\"> <span class=\"curr\">$</span> <span style=\"font-weight:italic;\">6,699</span> </td>\n",
            "<td class=\"value delta\"> <span style=\"font-weight:italic;\">11</span></td>\n",
            "</tr><tr>\n",
            "<td class=\"key\"> <span style=\"font-weight:italic;\">Adjusted net income (attributable to the Company's common shareholders)*</span></td>\n",
            "<td class=\"value current\"> <span class=\"curr\">$</span> <span style=\"font-weight:italic;\">2,830<sup>(a)</sup></span></td>\n",
            "<td class=\"value previous\"> <span class=\"curr\">$</span> <span style=\"font-weight:italic;\">2,352<sup>(b)</sup></span> </td>\n",
            "<td class=\"value delta\"> <span style=\"font-weight:italic;\">20</span></td>\n",
            "</tr> </tbody><tbody class=\"group\"><tr>\n",
            "<td class=\"key\"> <span style=\"font-weight:italic;\">Adjusted diluted earnings per common share*</span></td>\n",
            "<td class=\"value current\"> <span class=\"curr\">$</span> <span style=\"font-weight:italic;\">11.69<sup>(a)</sup></span></td>\n",
            "<td class=\"value previous\"> <span class=\"curr\">$</span> <span style=\"font-weight:italic;\">9.53<sup>(b)</sup></span> </td>\n",
            "<td class=\"value delta\"> <span style=\"font-weight:italic;\">23</span></td>\n",
            "</tr> </tbody><tbody class=\"group\"><tr>\n",
            "<td class=\"key\"> <span style=\"font-weight:italic;\">Dividends per common share<sup>(c)</sup></span></td>\n",
            "<td class=\"value current\"> <span class=\"curr\">$</span> <span style=\"font-weight:italic;\">2.68</span></td>\n",
            "<td class=\"value previous\"> <span class=\"curr\">$</span> <span style=\"font-weight:italic;\">2.28</span> </td>\n",
            "<td class=\"value delta\"> <span style=\"font-weight:italic;\">18</span></td>\n",
            "</tr> </tbody><tbody class=\"group\"><tr>\n",
            "<td class=\"key\"> <span style=\"font-weight:italic;\">Total assets</span></td>\n",
            "<td class=\"value current\"> <span class=\"curr\">$</span> <span style=\"font-weight:italic;\">12,537</span></td>\n",
            "<td class=\"value previous\"> <span class=\"curr\">$</span> <span style=\"font-weight:italic;\">11,348</span> </td>\n",
            "<td class=\"value delta\"> <span style=\"font-weight:italic;\">10</span></td>\n",
            "</tr><tr>\n",
            "<td class=\"key\"> <span style=\"font-weight:italic;\">Capital Expenditures <sup>(d)</sup></span></td>\n",
            "<td class=\"value current\"> <span class=\"curr\">$</span> <span style=\"font-weight:italic;\">76</span></td>\n",
            "<td class=\"value previous\"> <span class=\"curr\">$</span> <span style=\"font-weight:italic;\">115</span> </td>\n",
            "<td class=\"value delta\"> <span style=\"font-weight:italic;\">(34)</span></td>\n",
            "</tr><tr>\n",
            "<td class=\"key\"> <span style=\"font-weight:italic;\">Total debt</span></td>\n",
            "<td class=\"value current\"> <span class=\"curr\">$</span> <span style=\"font-weight:italic;\">4,110</span></td>\n",
            "<td class=\"value previous\"> <span class=\"curr\">$</span> <span style=\"font-weight:italic;\">3,948</span> </td>\n",
            "<td class=\"value delta\"> <span style=\"font-weight:italic;\">4</span></td>\n",
            "</tr><tr>\n",
            "<td class=\"key\"> <span style=\"font-weight:italic;\">Equity (including redeemable noncontrolling interest)</span></td>\n",
            "<td class=\"value current\"> <span class=\"curr\">$</span> <span style=\"font-weight:italic;\">3,352</span></td>\n",
            "<td class=\"value previous\"> <span class=\"curr\">$</span> <span style=\"font-weight:italic;\">2,804</span> </td>\n",
            "<td class=\"value delta\"> <span style=\"font-weight:italic;\">20</span></td>\n",
            "</tr> </tbody> <tfoot> <tr> <td class=\"key\"></td> <td class=\"value current\"></td> <td class=\"value previous\"></td> <td class=\"value delta\"></td> </tr> </tfoot> </table> </div> </div>\n"
          ]
        }
      ]
    },
    {
      "cell_type": "code",
      "source": [
        "headers20 = []\n",
        "for i in t20.find_all('th'):\n",
        " title = i.text\n",
        " headers20.append(title)"
      ],
      "metadata": {
        "id": "AoFRhGTleot9"
      },
      "execution_count": null,
      "outputs": []
    },
    {
      "cell_type": "code",
      "source": [
        "data20 = pd.DataFrame(columns = headers20)"
      ],
      "metadata": {
        "id": "mt17deaKeot-"
      },
      "execution_count": null,
      "outputs": []
    },
    {
      "cell_type": "code",
      "source": [
        "for j in t20.find_all('tr')[1:]:\n",
        " row_data = j.find_all('td')\n",
        " row = [i.text for i in row_data]\n",
        " length = len(data20)\n",
        " data20.loc[length] = row"
      ],
      "metadata": {
        "id": "xu3ZvhLPeot-"
      },
      "execution_count": null,
      "outputs": []
    },
    {
      "cell_type": "code",
      "source": [
        "data20 = data20.drop(8)"
      ],
      "metadata": {
        "id": "CVsybrGNeot-"
      },
      "execution_count": null,
      "outputs": []
    },
    {
      "cell_type": "code",
      "source": [
        "data20.to_csv(\"fy20.csv\", index= 'true')"
      ],
      "metadata": {
        "id": "cy84D5uHeot_"
      },
      "execution_count": null,
      "outputs": []
    },
    {
      "cell_type": "code",
      "source": [
        "data20 = data_table.DataTable(data20, include_index=False)"
      ],
      "metadata": {
        "id": "JNyL3km7eot_"
      },
      "execution_count": null,
      "outputs": []
    },
    {
      "cell_type": "code",
      "source": [
        "data20"
      ],
      "metadata": {
        "colab": {
          "base_uri": "https://localhost:8080/",
          "height": 341
        },
        "outputId": "8f9e2c70-b557-491d-b412-ebcd57cc0b27",
        "collapsed": true,
        "id": "03224rE8eot_"
      },
      "execution_count": null,
      "outputs": [
        {
          "output_type": "execute_result",
          "data": {
            "text/html": [
              "<div>\n",
              "<style scoped>\n",
              "    .dataframe tbody tr th:only-of-type {\n",
              "        vertical-align: middle;\n",
              "    }\n",
              "\n",
              "    .dataframe tbody tr th {\n",
              "        vertical-align: top;\n",
              "    }\n",
              "\n",
              "    .dataframe thead th {\n",
              "        text-align: right;\n",
              "    }\n",
              "</style>\n",
              "<table border=\"1\" class=\"dataframe\">\n",
              "  <thead>\n",
              "    <tr style=\"text-align: right;\">\n",
              "      <th></th>\n",
              "      <th>Years ended December 31 (in millions, except per share data)</th>\n",
              "      <th>2020</th>\n",
              "      <th>2019</th>\n",
              "      <th>% Change</th>\n",
              "    </tr>\n",
              "  </thead>\n",
              "  <tbody>\n",
              "    <tr>\n",
              "      <th>0</th>\n",
              "      <td>Revenue</td>\n",
              "      <td>$ 7,442</td>\n",
              "      <td>$ 6,699</td>\n",
              "      <td>11</td>\n",
              "    </tr>\n",
              "    <tr>\n",
              "      <th>1</th>\n",
              "      <td>Adjusted net income (attributable to the Comp...</td>\n",
              "      <td>$ 2,830(a)</td>\n",
              "      <td>$ 2,352(b)</td>\n",
              "      <td>20</td>\n",
              "    </tr>\n",
              "    <tr>\n",
              "      <th>2</th>\n",
              "      <td>Adjusted diluted earnings per common share*</td>\n",
              "      <td>$ 11.69(a)</td>\n",
              "      <td>$ 9.53(b)</td>\n",
              "      <td>23</td>\n",
              "    </tr>\n",
              "    <tr>\n",
              "      <th>3</th>\n",
              "      <td>Dividends per common share(c)</td>\n",
              "      <td>$ 2.68</td>\n",
              "      <td>$ 2.28</td>\n",
              "      <td>18</td>\n",
              "    </tr>\n",
              "    <tr>\n",
              "      <th>4</th>\n",
              "      <td>Total assets</td>\n",
              "      <td>$ 12,537</td>\n",
              "      <td>$ 11,348</td>\n",
              "      <td>10</td>\n",
              "    </tr>\n",
              "    <tr>\n",
              "      <th>5</th>\n",
              "      <td>Capital Expenditures (d)</td>\n",
              "      <td>$ 76</td>\n",
              "      <td>$ 115</td>\n",
              "      <td>(34)</td>\n",
              "    </tr>\n",
              "    <tr>\n",
              "      <th>6</th>\n",
              "      <td>Total debt</td>\n",
              "      <td>$ 4,110</td>\n",
              "      <td>$ 3,948</td>\n",
              "      <td>4</td>\n",
              "    </tr>\n",
              "    <tr>\n",
              "      <th>7</th>\n",
              "      <td>Equity (including redeemable noncontrolling i...</td>\n",
              "      <td>$ 3,352</td>\n",
              "      <td>$ 2,804</td>\n",
              "      <td>20</td>\n",
              "    </tr>\n",
              "  </tbody>\n",
              "</table>\n",
              "</div>"
            ],
            "application/vnd.google.colaboratory.module+javascript": "\n      import \"https://ssl.gstatic.com/colaboratory/data_table/881c4a0d49046431/data_table.js\";\n\n      const table = window.createDataTable({\n        data: [[\" Revenue\",\n\" $ 7,442\",\n\" $ 6,699 \",\n\" 11\"],\n [\" Adjusted net income (attributable to the Company's common shareholders)*\",\n\" $ 2,830(a)\",\n\" $ 2,352(b) \",\n\" 20\"],\n [\" Adjusted diluted earnings per common share*\",\n\" $ 11.69(a)\",\n\" $ 9.53(b) \",\n\" 23\"],\n [\" Dividends per common share(c)\",\n\" $ 2.68\",\n\" $ 2.28 \",\n\" 18\"],\n [\" Total assets\",\n\" $ 12,537\",\n\" $ 11,348 \",\n\" 10\"],\n [\" Capital Expenditures (d)\",\n\" $ 76\",\n\" $ 115 \",\n\" (34)\"],\n [\" Total debt\",\n\" $ 4,110\",\n\" $ 3,948 \",\n\" 4\"],\n [\" Equity (including redeemable noncontrolling interest)\",\n\" $ 3,352\",\n\" $ 2,804 \",\n\" 20\"]],\n        columns: [[\"string\", \" Years ended December 31 (in millions, except per share data)\"], [\"string\", \"  2020\"], [\"string\", \" 2019\"], [\"string\", \"  % Change \"]],\n        columnOptions: [],\n        rowsPerPage: 25,\n        helpUrl: \"https://colab.research.google.com/notebooks/data_table.ipynb\",\n        suppressOutputScrolling: true,\n        minimumWidth: undefined,\n      });\n      \n      function appendQuickchartButton(parentElement) {\n        let quickchartButtonContainerElement = document.createElement('div');\n        quickchartButtonContainerElement.innerHTML = `\n    <div id=\"df-5fb7214b-8194-4a7c-894f-ee9587e2e685\">\n      <button class=\"colab-df-quickchart\" onclick=\"quickchart('df-5fb7214b-8194-4a7c-894f-ee9587e2e685')\"\n              title=\"Suggest charts.\"\n              style=\"display:none;\">\n\n<svg xmlns=\"http://www.w3.org/2000/svg\" height=\"24px\"viewBox=\"0 0 24 24\"\n     width=\"24px\">\n    <g>\n        <path d=\"M19 3H5c-1.1 0-2 .9-2 2v14c0 1.1.9 2 2 2h14c1.1 0 2-.9 2-2V5c0-1.1-.9-2-2-2zM9 17H7v-7h2v7zm4 0h-2V7h2v10zm4 0h-2v-4h2v4z\"/>\n    </g>\n</svg>\n      </button>\n    </div>\n\n<style>\n  .colab-df-quickchart {\n    background-color: #E8F0FE;\n    border: none;\n    border-radius: 50%;\n    cursor: pointer;\n    display: none;\n    fill: #1967D2;\n    height: 32px;\n    padding: 0 0 0 0;\n    width: 32px;\n  }\n\n  .colab-df-quickchart:hover {\n    background-color: #E2EBFA;\n    box-shadow: 0px 1px 2px rgba(60, 64, 67, 0.3), 0px 1px 3px 1px rgba(60, 64, 67, 0.15);\n    fill: #174EA6;\n  }\n\n  [theme=dark] .colab-df-quickchart {\n    background-color: #3B4455;\n    fill: #D2E3FC;\n  }\n\n  [theme=dark] .colab-df-quickchart:hover {\n    background-color: #434B5C;\n    box-shadow: 0px 1px 3px 1px rgba(0, 0, 0, 0.15);\n    filter: drop-shadow(0px 1px 2px rgba(0, 0, 0, 0.3));\n    fill: #FFFFFF;\n  }\n</style>\n\n    <script>\n      async function quickchart(key) {\n        const containerElement = document.querySelector('#' + key);\n        const charts = await google.colab.kernel.invokeFunction(\n            'suggestCharts', [key], {});\n      }\n    </script>\n`;\n        parentElement.appendChild(quickchartButtonContainerElement);\n        \nfunction displayQuickchartButton(domScope) {\n  let quickchartButtonEl =\n    domScope.querySelector('#df-5fb7214b-8194-4a7c-894f-ee9587e2e685 button.colab-df-quickchart');\n  quickchartButtonEl.style.display =\n    google.colab.kernel.accessAllowed ? 'block' : 'none';\n}\n\n        displayQuickchartButton(parentElement);\n      }\n\n      appendQuickchartButton(table);\n    ",
            "text/plain": [
              "<google.colab.data_table.DataTable object>"
            ]
          },
          "metadata": {},
          "execution_count": 31
        }
      ]
    },
    {
      "cell_type": "markdown",
      "source": [
        "# **Exctracting FY19 Data**"
      ],
      "metadata": {
        "id": "mUhazOeUftNE"
      }
    },
    {
      "cell_type": "code",
      "source": [
        "u = requests.get('https://www.spglobal.com/en/annual-reports/2019/financial-highlights.aspx')"
      ],
      "metadata": {
        "id": "P5Wl_T6sf1Zw"
      },
      "execution_count": null,
      "outputs": []
    },
    {
      "cell_type": "code",
      "source": [
        "fy19 = BeautifulSoup(u.content , 'html.parser')\n",
        "print(fy19.title)\n",
        "print(u.url)\n",
        "print(u.status_code)"
      ],
      "metadata": {
        "colab": {
          "base_uri": "https://localhost:8080/"
        },
        "id": "ASDOlSAyhcD6",
        "outputId": "08efeb85-19a9-42ea-ca51-c0b9a75d0d73"
      },
      "execution_count": null,
      "outputs": [
        {
          "output_type": "stream",
          "name": "stdout",
          "text": [
            "<title>Financial Highlights | 2019 Annual Report | S&amp;P Global</title>\n",
            "https://www.spglobal.com/en/annual-reports/2019/financial-highlights.aspx\n",
            "200\n"
          ]
        }
      ]
    },
    {
      "cell_type": "code",
      "source": [
        "t19 = fy19.find('div' , class_='data-table')\n",
        "print(t19)"
      ],
      "metadata": {
        "colab": {
          "base_uri": "https://localhost:8080/"
        },
        "id": "DVZnac87hnEw",
        "outputId": "df7a1eeb-6516-4c53-f611-727a67e64c1a"
      },
      "execution_count": null,
      "outputs": [
        {
          "output_type": "stream",
          "name": "stdout",
          "text": [
            "<div class=\"data-table\"> <div class=\"content\"> <table border=\"0\" cellpadding=\"0\" cellspacing=\"0\" class=\"highlights_table\"> <thead> <tr> <th class=\"key\"> <span style=\"font-weight:italic;\">Years ended December 31 (in millions, except per share data)</span></th> <th class=\"value current\"> <span style=\"font-weight:italic;\"> 2019</span></th> <th class=\"value previous\"> <span style=\"font-weight:italic;\">2018</span></th> <th class=\"value delta\"> <span style=\"font-weight:italic;\"> % Change </span></th> </tr> </thead><tbody class=\"group\"><tr>\n",
            "<td class=\"key\"> <span style=\"font-weight:italic;\">Revenue</span></td>\n",
            "<td class=\"value current\"> <span class=\"curr\">$</span> <span style=\"font-weight:italic;\">6,699</span></td>\n",
            "<td class=\"value previous\"> <span class=\"curr\">$</span> <span style=\"font-weight:italic;\">6,258</span> </td>\n",
            "<td class=\"value delta\"> <span style=\"font-weight:italic;\">7</span></td>\n",
            "</tr><tr>\n",
            "<td class=\"key\"> <span style=\"font-weight:italic;\">Adjusted net income (attributable to the Company's common shareholders)*</span></td>\n",
            "<td class=\"value current\"> <span class=\"curr\">$</span> <span style=\"font-weight:italic;\">2,352<sup>(a)</sup></span></td>\n",
            "<td class=\"value previous\"> <span class=\"curr\">$</span> <span style=\"font-weight:italic;\">2,152<sup>(b)</sup></span> </td>\n",
            "<td class=\"value delta\"> <span style=\"font-weight:italic;\">9</span></td>\n",
            "</tr> </tbody><tbody class=\"group\"><tr>\n",
            "<td class=\"key\"> <span style=\"font-weight:italic;\">Adjusted diluted earnings per common share*</span></td>\n",
            "<td class=\"value current\"> <span class=\"curr\">$</span> <span style=\"font-weight:italic;\">9.53<sup>(a)</sup></span></td>\n",
            "<td class=\"value previous\"> <span class=\"curr\">$</span> <span style=\"font-weight:italic;\">8.50<sup>(b)</sup></span> </td>\n",
            "<td class=\"value delta\"> <span style=\"font-weight:italic;\">12</span></td>\n",
            "</tr> </tbody><tbody class=\"group\"><tr>\n",
            "<td class=\"key\"> <span style=\"font-weight:italic;\">Dividends per common share<sup>(c)</sup></span></td>\n",
            "<td class=\"value current\"> <span class=\"curr\">$</span> <span style=\"font-weight:italic;\">2.28</span></td>\n",
            "<td class=\"value previous\"> <span class=\"curr\">$</span> <span style=\"font-weight:italic;\">2.00</span> </td>\n",
            "<td class=\"value delta\"> <span style=\"font-weight:italic;\">14</span></td>\n",
            "</tr> </tbody><tbody class=\"group\"><tr>\n",
            "<td class=\"key\"> <span style=\"font-weight:italic;\">Total assets</span></td>\n",
            "<td class=\"value current\"> <span class=\"curr\">$</span> <span style=\"font-weight:italic;\">11,348</span></td>\n",
            "<td class=\"value previous\"> <span class=\"curr\">$</span> <span style=\"font-weight:italic;\">9,441</span> </td>\n",
            "<td class=\"value delta\"> <span style=\"font-weight:italic;\">20</span></td>\n",
            "</tr><tr>\n",
            "<td class=\"key\"> <span style=\"font-weight:italic;\">Capital Expenditures <sup>(d)</sup></span></td>\n",
            "<td class=\"value current\"> <span class=\"curr\">$</span> <span style=\"font-weight:italic;\">115</span></td>\n",
            "<td class=\"value previous\"> <span class=\"curr\">$</span> <span style=\"font-weight:italic;\">113</span> </td>\n",
            "<td class=\"value delta\"> <span style=\"font-weight:italic;\">2</span></td>\n",
            "</tr><tr>\n",
            "<td class=\"key\"> <span style=\"font-weight:italic;\">Total debt</span></td>\n",
            "<td class=\"value current\"> <span class=\"curr\">$</span> <span style=\"font-weight:italic;\">3,948</span></td>\n",
            "<td class=\"value previous\"> <span class=\"curr\">$</span> <span style=\"font-weight:italic;\">3,662</span> </td>\n",
            "<td class=\"value delta\"> <span style=\"font-weight:italic;\">8</span></td>\n",
            "</tr><tr>\n",
            "<td class=\"key\"> <span style=\"font-weight:italic;\">Equity (including redeemable noncontrolling interest)</span></td>\n",
            "<td class=\"value current\"> <span class=\"curr\">$</span> <span style=\"font-weight:italic;\">2,804</span></td>\n",
            "<td class=\"value previous\"> <span class=\"curr\">$</span> <span style=\"font-weight:italic;\">2,304</span> </td>\n",
            "<td class=\"value delta\"> <span style=\"font-weight:italic;\">22</span></td>\n",
            "</tr> </tbody> <tfoot> <tr> <td class=\"key\"></td> <td class=\"value current\"></td> <td class=\"value previous\"></td> <td class=\"value delta\"></td> </tr> </tfoot> </table> </div> </div>\n"
          ]
        }
      ]
    },
    {
      "cell_type": "code",
      "source": [
        "headers19 = []\n",
        "for i in t19.find_all('th'):\n",
        " title = i.text\n",
        " headers19.append(title)"
      ],
      "metadata": {
        "id": "5t96T9u7ib-J"
      },
      "execution_count": null,
      "outputs": []
    },
    {
      "cell_type": "code",
      "source": [
        "data19 = pd.DataFrame(columns = headers19)"
      ],
      "metadata": {
        "id": "owdr5Zkli4S2"
      },
      "execution_count": null,
      "outputs": []
    },
    {
      "cell_type": "code",
      "source": [
        "for j in t19.find_all('tr')[1:]:\n",
        " row_data = j.find_all('td')\n",
        " row = [i.text for i in row_data]\n",
        " length = len(data19)\n",
        " data19.loc[length] = row"
      ],
      "metadata": {
        "id": "JNOVkLChi4S3"
      },
      "execution_count": null,
      "outputs": []
    },
    {
      "cell_type": "code",
      "source": [
        "data19 = data19.drop(8)"
      ],
      "metadata": {
        "id": "vVtGscBsi4S3"
      },
      "execution_count": null,
      "outputs": []
    },
    {
      "cell_type": "code",
      "source": [
        "data19.to_csv(\"fy19.csv\", index='true')"
      ],
      "metadata": {
        "id": "J0otbgpyi4S4"
      },
      "execution_count": null,
      "outputs": []
    },
    {
      "cell_type": "code",
      "source": [
        "data19 = data_table.DataTable(data19, include_index=False)"
      ],
      "metadata": {
        "id": "q_pAPOVmi4S4"
      },
      "execution_count": null,
      "outputs": []
    },
    {
      "cell_type": "code",
      "source": [
        "data19"
      ],
      "metadata": {
        "colab": {
          "base_uri": "https://localhost:8080/",
          "height": 341
        },
        "outputId": "6821074a-1433-4231-caef-f6811a31c450",
        "collapsed": true,
        "id": "8U9_M5D0i4S4"
      },
      "execution_count": null,
      "outputs": [
        {
          "output_type": "execute_result",
          "data": {
            "text/html": [
              "<div>\n",
              "<style scoped>\n",
              "    .dataframe tbody tr th:only-of-type {\n",
              "        vertical-align: middle;\n",
              "    }\n",
              "\n",
              "    .dataframe tbody tr th {\n",
              "        vertical-align: top;\n",
              "    }\n",
              "\n",
              "    .dataframe thead th {\n",
              "        text-align: right;\n",
              "    }\n",
              "</style>\n",
              "<table border=\"1\" class=\"dataframe\">\n",
              "  <thead>\n",
              "    <tr style=\"text-align: right;\">\n",
              "      <th></th>\n",
              "      <th>Years ended December 31 (in millions, except per share data)</th>\n",
              "      <th>2019</th>\n",
              "      <th>2018</th>\n",
              "      <th>% Change</th>\n",
              "    </tr>\n",
              "  </thead>\n",
              "  <tbody>\n",
              "    <tr>\n",
              "      <th>0</th>\n",
              "      <td>Revenue</td>\n",
              "      <td>$ 6,699</td>\n",
              "      <td>$ 6,258</td>\n",
              "      <td>7</td>\n",
              "    </tr>\n",
              "    <tr>\n",
              "      <th>1</th>\n",
              "      <td>Adjusted net income (attributable to the Comp...</td>\n",
              "      <td>$ 2,352(a)</td>\n",
              "      <td>$ 2,152(b)</td>\n",
              "      <td>9</td>\n",
              "    </tr>\n",
              "    <tr>\n",
              "      <th>2</th>\n",
              "      <td>Adjusted diluted earnings per common share*</td>\n",
              "      <td>$ 9.53(a)</td>\n",
              "      <td>$ 8.50(b)</td>\n",
              "      <td>12</td>\n",
              "    </tr>\n",
              "    <tr>\n",
              "      <th>3</th>\n",
              "      <td>Dividends per common share(c)</td>\n",
              "      <td>$ 2.28</td>\n",
              "      <td>$ 2.00</td>\n",
              "      <td>14</td>\n",
              "    </tr>\n",
              "    <tr>\n",
              "      <th>4</th>\n",
              "      <td>Total assets</td>\n",
              "      <td>$ 11,348</td>\n",
              "      <td>$ 9,441</td>\n",
              "      <td>20</td>\n",
              "    </tr>\n",
              "    <tr>\n",
              "      <th>5</th>\n",
              "      <td>Capital Expenditures (d)</td>\n",
              "      <td>$ 115</td>\n",
              "      <td>$ 113</td>\n",
              "      <td>2</td>\n",
              "    </tr>\n",
              "    <tr>\n",
              "      <th>6</th>\n",
              "      <td>Total debt</td>\n",
              "      <td>$ 3,948</td>\n",
              "      <td>$ 3,662</td>\n",
              "      <td>8</td>\n",
              "    </tr>\n",
              "    <tr>\n",
              "      <th>7</th>\n",
              "      <td>Equity (including redeemable noncontrolling i...</td>\n",
              "      <td>$ 2,804</td>\n",
              "      <td>$ 2,304</td>\n",
              "      <td>22</td>\n",
              "    </tr>\n",
              "  </tbody>\n",
              "</table>\n",
              "</div>"
            ],
            "application/vnd.google.colaboratory.module+javascript": "\n      import \"https://ssl.gstatic.com/colaboratory/data_table/881c4a0d49046431/data_table.js\";\n\n      const table = window.createDataTable({\n        data: [[\" Revenue\",\n\" $ 6,699\",\n\" $ 6,258 \",\n\" 7\"],\n [\" Adjusted net income (attributable to the Company's common shareholders)*\",\n\" $ 2,352(a)\",\n\" $ 2,152(b) \",\n\" 9\"],\n [\" Adjusted diluted earnings per common share*\",\n\" $ 9.53(a)\",\n\" $ 8.50(b) \",\n\" 12\"],\n [\" Dividends per common share(c)\",\n\" $ 2.28\",\n\" $ 2.00 \",\n\" 14\"],\n [\" Total assets\",\n\" $ 11,348\",\n\" $ 9,441 \",\n\" 20\"],\n [\" Capital Expenditures (d)\",\n\" $ 115\",\n\" $ 113 \",\n\" 2\"],\n [\" Total debt\",\n\" $ 3,948\",\n\" $ 3,662 \",\n\" 8\"],\n [\" Equity (including redeemable noncontrolling interest)\",\n\" $ 2,804\",\n\" $ 2,304 \",\n\" 22\"]],\n        columns: [[\"string\", \" Years ended December 31 (in millions, except per share data)\"], [\"string\", \"  2019\"], [\"string\", \" 2018\"], [\"string\", \"  % Change \"]],\n        columnOptions: [],\n        rowsPerPage: 25,\n        helpUrl: \"https://colab.research.google.com/notebooks/data_table.ipynb\",\n        suppressOutputScrolling: true,\n        minimumWidth: undefined,\n      });\n      \n      function appendQuickchartButton(parentElement) {\n        let quickchartButtonContainerElement = document.createElement('div');\n        quickchartButtonContainerElement.innerHTML = `\n    <div id=\"df-ee2db548-6187-40a2-8473-03833879953f\">\n      <button class=\"colab-df-quickchart\" onclick=\"quickchart('df-ee2db548-6187-40a2-8473-03833879953f')\"\n              title=\"Suggest charts.\"\n              style=\"display:none;\">\n\n<svg xmlns=\"http://www.w3.org/2000/svg\" height=\"24px\"viewBox=\"0 0 24 24\"\n     width=\"24px\">\n    <g>\n        <path d=\"M19 3H5c-1.1 0-2 .9-2 2v14c0 1.1.9 2 2 2h14c1.1 0 2-.9 2-2V5c0-1.1-.9-2-2-2zM9 17H7v-7h2v7zm4 0h-2V7h2v10zm4 0h-2v-4h2v4z\"/>\n    </g>\n</svg>\n      </button>\n    </div>\n\n<style>\n  .colab-df-quickchart {\n    background-color: #E8F0FE;\n    border: none;\n    border-radius: 50%;\n    cursor: pointer;\n    display: none;\n    fill: #1967D2;\n    height: 32px;\n    padding: 0 0 0 0;\n    width: 32px;\n  }\n\n  .colab-df-quickchart:hover {\n    background-color: #E2EBFA;\n    box-shadow: 0px 1px 2px rgba(60, 64, 67, 0.3), 0px 1px 3px 1px rgba(60, 64, 67, 0.15);\n    fill: #174EA6;\n  }\n\n  [theme=dark] .colab-df-quickchart {\n    background-color: #3B4455;\n    fill: #D2E3FC;\n  }\n\n  [theme=dark] .colab-df-quickchart:hover {\n    background-color: #434B5C;\n    box-shadow: 0px 1px 3px 1px rgba(0, 0, 0, 0.15);\n    filter: drop-shadow(0px 1px 2px rgba(0, 0, 0, 0.3));\n    fill: #FFFFFF;\n  }\n</style>\n\n    <script>\n      async function quickchart(key) {\n        const containerElement = document.querySelector('#' + key);\n        const charts = await google.colab.kernel.invokeFunction(\n            'suggestCharts', [key], {});\n      }\n    </script>\n`;\n        parentElement.appendChild(quickchartButtonContainerElement);\n        \nfunction displayQuickchartButton(domScope) {\n  let quickchartButtonEl =\n    domScope.querySelector('#df-ee2db548-6187-40a2-8473-03833879953f button.colab-df-quickchart');\n  quickchartButtonEl.style.display =\n    google.colab.kernel.accessAllowed ? 'block' : 'none';\n}\n\n        displayQuickchartButton(parentElement);\n      }\n\n      appendQuickchartButton(table);\n    ",
            "text/plain": [
              "<google.colab.data_table.DataTable object>"
            ]
          },
          "metadata": {},
          "execution_count": 41
        }
      ]
    },
    {
      "cell_type": "markdown",
      "source": [
        "#**Data Frames**"
      ],
      "metadata": {
        "id": "2taIN3FLKR3X"
      }
    },
    {
      "cell_type": "code",
      "source": [
        "df1 = pd.read_csv('fy19.csv')\n",
        "df2 = pd.read_csv('fy20.csv')\n",
        "df3 = pd.read_csv('fy21.csv')\n",
        "df4 = pd.read_csv('fy22.csv')"
      ],
      "metadata": {
        "id": "KYmPKaGjKcXW"
      },
      "execution_count": null,
      "outputs": []
    },
    {
      "cell_type": "code",
      "source": [
        "data_table.DataTable(df1, include_index=False)"
      ],
      "metadata": {
        "colab": {
          "base_uri": "https://localhost:8080/",
          "height": 341
        },
        "id": "9NHQk3tWK5BG",
        "outputId": "663ee4ca-9036-4849-8645-2b40518af719"
      },
      "execution_count": null,
      "outputs": [
        {
          "output_type": "execute_result",
          "data": {
            "text/html": [
              "<div>\n",
              "<style scoped>\n",
              "    .dataframe tbody tr th:only-of-type {\n",
              "        vertical-align: middle;\n",
              "    }\n",
              "\n",
              "    .dataframe tbody tr th {\n",
              "        vertical-align: top;\n",
              "    }\n",
              "\n",
              "    .dataframe thead th {\n",
              "        text-align: right;\n",
              "    }\n",
              "</style>\n",
              "<table border=\"1\" class=\"dataframe\">\n",
              "  <thead>\n",
              "    <tr style=\"text-align: right;\">\n",
              "      <th></th>\n",
              "      <th>Unnamed: 0</th>\n",
              "      <th>Years ended December 31 (in millions, except per share data)</th>\n",
              "      <th>2019</th>\n",
              "      <th>2018</th>\n",
              "      <th>% Change</th>\n",
              "    </tr>\n",
              "  </thead>\n",
              "  <tbody>\n",
              "    <tr>\n",
              "      <th>0</th>\n",
              "      <td>0</td>\n",
              "      <td>Revenue</td>\n",
              "      <td>$ 6,699</td>\n",
              "      <td>$ 6,258</td>\n",
              "      <td>7</td>\n",
              "    </tr>\n",
              "    <tr>\n",
              "      <th>1</th>\n",
              "      <td>1</td>\n",
              "      <td>Adjusted net income (attributable to the Comp...</td>\n",
              "      <td>$ 2,352(a)</td>\n",
              "      <td>$ 2,152(b)</td>\n",
              "      <td>9</td>\n",
              "    </tr>\n",
              "    <tr>\n",
              "      <th>2</th>\n",
              "      <td>2</td>\n",
              "      <td>Adjusted diluted earnings per common share*</td>\n",
              "      <td>$ 9.53(a)</td>\n",
              "      <td>$ 8.50(b)</td>\n",
              "      <td>12</td>\n",
              "    </tr>\n",
              "    <tr>\n",
              "      <th>3</th>\n",
              "      <td>3</td>\n",
              "      <td>Dividends per common share(c)</td>\n",
              "      <td>$ 2.28</td>\n",
              "      <td>$ 2.00</td>\n",
              "      <td>14</td>\n",
              "    </tr>\n",
              "    <tr>\n",
              "      <th>4</th>\n",
              "      <td>4</td>\n",
              "      <td>Total assets</td>\n",
              "      <td>$ 11,348</td>\n",
              "      <td>$ 9,441</td>\n",
              "      <td>20</td>\n",
              "    </tr>\n",
              "    <tr>\n",
              "      <th>5</th>\n",
              "      <td>5</td>\n",
              "      <td>Capital Expenditures (d)</td>\n",
              "      <td>$ 115</td>\n",
              "      <td>$ 113</td>\n",
              "      <td>2</td>\n",
              "    </tr>\n",
              "    <tr>\n",
              "      <th>6</th>\n",
              "      <td>6</td>\n",
              "      <td>Total debt</td>\n",
              "      <td>$ 3,948</td>\n",
              "      <td>$ 3,662</td>\n",
              "      <td>8</td>\n",
              "    </tr>\n",
              "    <tr>\n",
              "      <th>7</th>\n",
              "      <td>7</td>\n",
              "      <td>Equity (including redeemable noncontrolling i...</td>\n",
              "      <td>$ 2,804</td>\n",
              "      <td>$ 2,304</td>\n",
              "      <td>22</td>\n",
              "    </tr>\n",
              "  </tbody>\n",
              "</table>\n",
              "</div>"
            ],
            "application/vnd.google.colaboratory.module+javascript": "\n      import \"https://ssl.gstatic.com/colaboratory/data_table/881c4a0d49046431/data_table.js\";\n\n      const table = window.createDataTable({\n        data: [[{\n            'v': 0,\n            'f': \"0\",\n        },\n\" Revenue\",\n\" $ 6,699\",\n\" $ 6,258 \",\n{\n            'v': 7,\n            'f': \"7\",\n        }],\n [{\n            'v': 1,\n            'f': \"1\",\n        },\n\" Adjusted net income (attributable to the Company's common shareholders)*\",\n\" $ 2,352(a)\",\n\" $ 2,152(b) \",\n{\n            'v': 9,\n            'f': \"9\",\n        }],\n [{\n            'v': 2,\n            'f': \"2\",\n        },\n\" Adjusted diluted earnings per common share*\",\n\" $ 9.53(a)\",\n\" $ 8.50(b) \",\n{\n            'v': 12,\n            'f': \"12\",\n        }],\n [{\n            'v': 3,\n            'f': \"3\",\n        },\n\" Dividends per common share(c)\",\n\" $ 2.28\",\n\" $ 2.00 \",\n{\n            'v': 14,\n            'f': \"14\",\n        }],\n [{\n            'v': 4,\n            'f': \"4\",\n        },\n\" Total assets\",\n\" $ 11,348\",\n\" $ 9,441 \",\n{\n            'v': 20,\n            'f': \"20\",\n        }],\n [{\n            'v': 5,\n            'f': \"5\",\n        },\n\" Capital Expenditures (d)\",\n\" $ 115\",\n\" $ 113 \",\n{\n            'v': 2,\n            'f': \"2\",\n        }],\n [{\n            'v': 6,\n            'f': \"6\",\n        },\n\" Total debt\",\n\" $ 3,948\",\n\" $ 3,662 \",\n{\n            'v': 8,\n            'f': \"8\",\n        }],\n [{\n            'v': 7,\n            'f': \"7\",\n        },\n\" Equity (including redeemable noncontrolling interest)\",\n\" $ 2,804\",\n\" $ 2,304 \",\n{\n            'v': 22,\n            'f': \"22\",\n        }]],\n        columns: [[\"number\", \"Unnamed: 0\"], [\"string\", \" Years ended December 31 (in millions, except per share data)\"], [\"string\", \"  2019\"], [\"string\", \" 2018\"], [\"number\", \"  % Change \"]],\n        columnOptions: [],\n        rowsPerPage: 25,\n        helpUrl: \"https://colab.research.google.com/notebooks/data_table.ipynb\",\n        suppressOutputScrolling: true,\n        minimumWidth: undefined,\n      });\n      \n      function appendQuickchartButton(parentElement) {\n        let quickchartButtonContainerElement = document.createElement('div');\n        quickchartButtonContainerElement.innerHTML = `\n    <div id=\"df-6c8e3835-e71a-4a8f-8c75-9dba420090d3\">\n      <button class=\"colab-df-quickchart\" onclick=\"quickchart('df-6c8e3835-e71a-4a8f-8c75-9dba420090d3')\"\n              title=\"Suggest charts.\"\n              style=\"display:none;\">\n\n<svg xmlns=\"http://www.w3.org/2000/svg\" height=\"24px\"viewBox=\"0 0 24 24\"\n     width=\"24px\">\n    <g>\n        <path d=\"M19 3H5c-1.1 0-2 .9-2 2v14c0 1.1.9 2 2 2h14c1.1 0 2-.9 2-2V5c0-1.1-.9-2-2-2zM9 17H7v-7h2v7zm4 0h-2V7h2v10zm4 0h-2v-4h2v4z\"/>\n    </g>\n</svg>\n      </button>\n    </div>\n\n<style>\n  .colab-df-quickchart {\n    background-color: #E8F0FE;\n    border: none;\n    border-radius: 50%;\n    cursor: pointer;\n    display: none;\n    fill: #1967D2;\n    height: 32px;\n    padding: 0 0 0 0;\n    width: 32px;\n  }\n\n  .colab-df-quickchart:hover {\n    background-color: #E2EBFA;\n    box-shadow: 0px 1px 2px rgba(60, 64, 67, 0.3), 0px 1px 3px 1px rgba(60, 64, 67, 0.15);\n    fill: #174EA6;\n  }\n\n  [theme=dark] .colab-df-quickchart {\n    background-color: #3B4455;\n    fill: #D2E3FC;\n  }\n\n  [theme=dark] .colab-df-quickchart:hover {\n    background-color: #434B5C;\n    box-shadow: 0px 1px 3px 1px rgba(0, 0, 0, 0.15);\n    filter: drop-shadow(0px 1px 2px rgba(0, 0, 0, 0.3));\n    fill: #FFFFFF;\n  }\n</style>\n\n    <script>\n      async function quickchart(key) {\n        const containerElement = document.querySelector('#' + key);\n        const charts = await google.colab.kernel.invokeFunction(\n            'suggestCharts', [key], {});\n      }\n    </script>\n`;\n        parentElement.appendChild(quickchartButtonContainerElement);\n        \nfunction displayQuickchartButton(domScope) {\n  let quickchartButtonEl =\n    domScope.querySelector('#df-6c8e3835-e71a-4a8f-8c75-9dba420090d3 button.colab-df-quickchart');\n  quickchartButtonEl.style.display =\n    google.colab.kernel.accessAllowed ? 'block' : 'none';\n}\n\n        displayQuickchartButton(parentElement);\n      }\n\n      appendQuickchartButton(table);\n    ",
            "text/plain": [
              "<google.colab.data_table.DataTable object>"
            ]
          },
          "metadata": {},
          "execution_count": 43
        }
      ]
    }
  ]
}